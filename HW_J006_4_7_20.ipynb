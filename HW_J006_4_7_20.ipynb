{
  "nbformat": 4,
  "nbformat_minor": 0,
  "metadata": {
    "colab": {
      "name": "HW_J006_4-7-20",
      "provenance": [],
      "authorship_tag": "ABX9TyNDAxtZcC769MrupbQ+B5RD",
      "include_colab_link": true
    },
    "kernelspec": {
      "name": "python3",
      "display_name": "Python 3"
    }
  },
  "cells": [
    {
      "cell_type": "markdown",
      "metadata": {
        "id": "view-in-github",
        "colab_type": "text"
      },
      "source": [
        "<a href=\"https://colab.research.google.com/github/rajbhadalia/AI-1.0/blob/master/HW_J006_4_7_20.ipynb\" target=\"_parent\"><img src=\"https://colab.research.google.com/assets/colab-badge.svg\" alt=\"Open In Colab\"/></a>"
      ]
    },
    {
      "cell_type": "code",
      "metadata": {
        "id": "VIs9TRaZklCh",
        "colab_type": "code",
        "colab": {
          "base_uri": "https://localhost:8080/",
          "height": 50
        },
        "outputId": "4e913e1d-2fef-4866-fdde-13070ce79022"
      },
      "source": [
        "# if else\n",
        "N = int(input())\n",
        "\n",
        "if (N % 2 == 1):\n",
        "    print(\"weird\")\n",
        "else:\n",
        "    if(N >=2 and N <= 5):\n",
        "     print(\"not weird\")\n",
        "\n",
        "    elif(N >= 6 and N <= 20):\n",
        "        print(\"weird\")\n",
        "\n",
        "    elif(N > 20):\n",
        "        print(\"not weird\")"
      ],
      "execution_count": 2,
      "outputs": [
        {
          "output_type": "stream",
          "text": [
            "4\n",
            "not weird\n"
          ],
          "name": "stdout"
        }
      ]
    },
    {
      "cell_type": "code",
      "metadata": {
        "id": "lT6sxsQquwKx",
        "colab_type": "code",
        "colab": {
          "base_uri": "https://localhost:8080/",
          "height": 101
        },
        "outputId": "118a4518-2104-4d0d-f125-a9034d375607"
      },
      "source": [
        " # arithmetic operations\n",
        " a = int(input())\n",
        " b = int(input())\n",
        "print(a + b)\n",
        "print(a - b)\n",
        "print(a * b)\n"
      ],
      "execution_count": 3,
      "outputs": [
        {
          "output_type": "stream",
          "text": [
            "3\n",
            "4\n",
            "7\n",
            "-1\n",
            "12\n"
          ],
          "name": "stdout"
        }
      ]
    },
    {
      "cell_type": "code",
      "metadata": {
        "id": "DpRvyiSh1tbY",
        "colab_type": "code",
        "colab": {
          "base_uri": "https://localhost:8080/",
          "height": 84
        },
        "outputId": "f76d4d09-aea1-4ee1-bb56-2d5640982aa6"
      },
      "source": [
        "if __name__ == '__main__':\n",
        "    a = int(input())\n",
        "    b = int(input())\n",
        "print(a // b)\n",
        "print(a / b)\n"
      ],
      "execution_count": 6,
      "outputs": [
        {
          "output_type": "stream",
          "text": [
            "3\n",
            "4\n",
            "0\n",
            "0.75\n"
          ],
          "name": "stdout"
        }
      ]
    },
    {
      "cell_type": "code",
      "metadata": {
        "id": "2B9cQyWv2NCp",
        "colab_type": "code",
        "colab": {}
      },
      "source": [
        ""
      ],
      "execution_count": null,
      "outputs": []
    },
    {
      "cell_type": "code",
      "metadata": {
        "id": "KPzxrKQk2T2Z",
        "colab_type": "code",
        "colab": {
          "base_uri": "https://localhost:8080/",
          "height": 118
        },
        "outputId": "8df9bea2-73f8-4b23-d2e3-bdb456dab8da"
      },
      "source": [
        "#loops\n",
        "\n",
        "if __name__ == '__main__':\n",
        "    n = int(input())\n",
        "    i = 0\n",
        "    while(i < n):\n",
        "        print(i * i)\n",
        "        i += 1\n"
      ],
      "execution_count": 8,
      "outputs": [
        {
          "output_type": "stream",
          "text": [
            "5\n",
            "0\n",
            "1\n",
            "4\n",
            "9\n",
            "16\n"
          ],
          "name": "stdout"
        }
      ]
    },
    {
      "cell_type": "code",
      "metadata": {
        "id": "SgIUtjSy2gyk",
        "colab_type": "code",
        "colab": {
          "base_uri": "https://localhost:8080/",
          "height": 50
        },
        "outputId": "35af67b0-a4b3-420b-8020-79e3ee62ea91"
      },
      "source": [
        "# print function\n",
        "if __name__ == '__main__':\n",
        "    n = int(input())\n",
        "    for i in range (1,n+1):\n",
        "        print(i,end=\"\")\n"
      ],
      "execution_count": 9,
      "outputs": [
        {
          "output_type": "stream",
          "text": [
            "5\n",
            "12345"
          ],
          "name": "stdout"
        }
      ]
    },
    {
      "cell_type": "code",
      "metadata": {
        "id": "jsKBCLhC6PMr",
        "colab_type": "code",
        "colab": {
          "base_uri": "https://localhost:8080/",
          "height": 121
        },
        "outputId": "0d0e646b-169c-411a-f116-bec6a2587290"
      },
      "source": [
        " x = int(input())\n",
        " y = int(input())\n",
        " z = int(input())\n",
        " n = int(input())\n",
        " a = [[i,j,k] for i in range (x+1)for j in range (y+1) for k in range (z+1) if i+j+k!=n]\n",
        "print(a)"
      ],
      "execution_count": 17,
      "outputs": [
        {
          "output_type": "stream",
          "text": [
            "3\n",
            "4\n",
            "5\n",
            "6\n",
            "[[0, 0, 0], [0, 0, 1], [0, 0, 2], [0, 0, 3], [0, 0, 4], [0, 0, 5], [0, 1, 0], [0, 1, 1], [0, 1, 2], [0, 1, 3], [0, 1, 4], [0, 2, 0], [0, 2, 1], [0, 2, 2], [0, 2, 3], [0, 2, 5], [0, 3, 0], [0, 3, 1], [0, 3, 2], [0, 3, 4], [0, 3, 5], [0, 4, 0], [0, 4, 1], [0, 4, 3], [0, 4, 4], [0, 4, 5], [1, 0, 0], [1, 0, 1], [1, 0, 2], [1, 0, 3], [1, 0, 4], [1, 1, 0], [1, 1, 1], [1, 1, 2], [1, 1, 3], [1, 1, 5], [1, 2, 0], [1, 2, 1], [1, 2, 2], [1, 2, 4], [1, 2, 5], [1, 3, 0], [1, 3, 1], [1, 3, 3], [1, 3, 4], [1, 3, 5], [1, 4, 0], [1, 4, 2], [1, 4, 3], [1, 4, 4], [1, 4, 5], [2, 0, 0], [2, 0, 1], [2, 0, 2], [2, 0, 3], [2, 0, 5], [2, 1, 0], [2, 1, 1], [2, 1, 2], [2, 1, 4], [2, 1, 5], [2, 2, 0], [2, 2, 1], [2, 2, 3], [2, 2, 4], [2, 2, 5], [2, 3, 0], [2, 3, 2], [2, 3, 3], [2, 3, 4], [2, 3, 5], [2, 4, 1], [2, 4, 2], [2, 4, 3], [2, 4, 4], [2, 4, 5], [3, 0, 0], [3, 0, 1], [3, 0, 2], [3, 0, 4], [3, 0, 5], [3, 1, 0], [3, 1, 1], [3, 1, 3], [3, 1, 4], [3, 1, 5], [3, 2, 0], [3, 2, 2], [3, 2, 3], [3, 2, 4], [3, 2, 5], [3, 3, 1], [3, 3, 2], [3, 3, 3], [3, 3, 4], [3, 3, 5], [3, 4, 0], [3, 4, 1], [3, 4, 2], [3, 4, 3], [3, 4, 4], [3, 4, 5]]\n"
          ],
          "name": "stdout"
        }
      ]
    },
    {
      "cell_type": "code",
      "metadata": {
        "id": "aAWHmh1T8B34",
        "colab_type": "code",
        "colab": {}
      },
      "source": [
        "n = int(input())\n",
        "    if (n%2 == 1):\n",
        "print(weird)\n",
        "    else:\n",
        "        if (n >=2 and n<= 5):\n",
        "print(not weird)\n",
        "        elif(n >=6 and n<= 20):\n",
        "print(weird)\n",
        "        elif(n > 20):\n",
        "print(not weird)            \n"
      ],
      "execution_count": null,
      "outputs": []
    }
  ]
}