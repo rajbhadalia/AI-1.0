{
  "nbformat": 4,
  "nbformat_minor": 0,
  "metadata": {
    "colab": {
      "name": "HW_J006_8-8-20",
      "provenance": [],
      "authorship_tag": "ABX9TyMoaxQUKKBxC6bls8y6/m6v",
      "include_colab_link": true
    },
    "kernelspec": {
      "name": "python3",
      "display_name": "Python 3"
    }
  },
  "cells": [
    {
      "cell_type": "markdown",
      "metadata": {
        "id": "view-in-github",
        "colab_type": "text"
      },
      "source": [
        "<a href=\"https://colab.research.google.com/github/rajbhadalia/AI-1.0/blob/master/HW/HW_J006_8_8_20.ipynb\" target=\"_parent\"><img src=\"https://colab.research.google.com/assets/colab-badge.svg\" alt=\"Open In Colab\"/></a>"
      ]
    },
    {
      "cell_type": "code",
      "metadata": {
        "id": "SLp4AAaFDJBS",
        "colab_type": "code",
        "colab": {}
      },
      "source": [
        "import sys\n",
        "import heapq\n",
        "\n",
        "def solve(N,M,S,V,E) :\n",
        "\n",
        "    #storing nodes passing to N in tuple \n",
        "    T = tuple(set() for _ in range(N))\n",
        "       for u,v in E :\n",
        "        T[u].add(v)\n",
        "        T[v].add(u)\n",
        "      \n",
        "    Total = sum(V)\n",
        "    #Storing sorted array \n",
        "    order = sorted(range(n), reverse=True, key=(lambda i : V[i]/S[i]))\n",
        "     maxValue = 0\n",
        "\n",
        "    #recursive    \n",
        "    def getMax(visited, connected, rejected, size, value, rejectedValue, maxValue) :\n",
        "        \n",
        "        if value > maxValue :\n",
        "            maxValue = value\n",
        "            \n",
        "           if not connected :\n",
        "            return maxValue\n",
        "        \n",
        "        \n",
        "        i = getBest(connected)\n",
        "        if size + S[i] <= M :\n",
        "            maxValue = getMax(visited|{i}, (connected-{i}) | (T[i]-rejected-visited), rejected, size+S[i], value+V[i], rejectedValue, maxValue)\n",
        "            \n",
        "        if Total - (rejectedValue + V[i]) > maxValue :\n",
        "            maxValue = getMax(visited|{i}, connected-{i}, rejected | {i}, size, value, rejectedValue + V[i], maxValue)\n",
        "            \n",
        "        return maxValue\n",
        "        \n",
        "    def getBest(connected) :\n",
        "        for i in order :\n",
        "            if i in connected :\n",
        "                return i\n",
        "            \n",
        "    for s in order :\n",
        "        maxValue = getMax(set(),{s},set(),0,0,0,maxValue)\n",
        "\n",
        "    return maxValue\n"
      ],
      "execution_count": 3,
      "outputs": []
    },
    {
      "cell_type": "code",
      "metadata": {
        "id": "3wi4bQopDpgo",
        "colab_type": "code",
        "colab": {
          "base_uri": "https://localhost:8080/",
          "height": 134
        },
        "outputId": "b1dda27d-eaea-4717-a40f-abf9481fe2b4"
      },
      "source": [
        "T = int(input(\"Enter number of test cases: \"))\n",
        "# For loop\n",
        "for _ in range(T) :\n",
        "    #taking inputs for number of nodes,sizes,values\n",
        "    n,m = (int(_) for _ in input(\"Enter number of nodes and knapsack size: \").split())\n",
        "    s = tuple(int(_) for _ in input(\"Enter size of each node: \").split())\n",
        "    v = tuple(int(_) for _ in input(\"Enter values for each node: \").split())\n",
        "    e = tuple((int(_)-1 for _ in input(\"Which nodes are connected? \").split()) for _ in range(n-1))\n",
        "    print(\"Maximum cost: \",solve(n,m,s,v,e))"
      ],
      "execution_count": 6,
      "outputs": [
        {
          "output_type": "stream",
          "text": [
            "Enter number of test cases: 1\n",
            "Enter number of nodes and knapsack size: 3 1\n",
            "Enter size of each node: 1 1 1 \n",
            "Enter values for each node: 1 2 3\n",
            "Which nodes are connected? 1 2\n",
            "Which nodes are connected? 1 3\n",
            "Maximum cost:  3\n"
          ],
          "name": "stdout"
        }
      ]
    },
    {
      "cell_type": "code",
      "metadata": {
        "id": "9uVlFSNYDpe6",
        "colab_type": "code",
        "colab": {}
      },
      "source": [
        ""
      ],
      "execution_count": null,
      "outputs": []
    }
  ]
}