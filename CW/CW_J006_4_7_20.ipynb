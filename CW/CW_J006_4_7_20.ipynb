{
  "nbformat": 4,
  "nbformat_minor": 0,
  "metadata": {
    "colab": {
      "name": "CW_J006_4-7-20",
      "provenance": [],
      "authorship_tag": "ABX9TyNLiGqKQ16IHi7aRZw+DQ4H",
      "include_colab_link": true
    },
    "kernelspec": {
      "name": "python3",
      "display_name": "Python 3"
    }
  },
  "cells": [
    {
      "cell_type": "markdown",
      "metadata": {
        "id": "view-in-github",
        "colab_type": "text"
      },
      "source": [
        "<a href=\"https://colab.research.google.com/github/rajbhadalia/AI-1.0/blob/master/CW/CW_J006_4_7_20.ipynb\" target=\"_parent\"><img src=\"https://colab.research.google.com/assets/colab-badge.svg\" alt=\"Open In Colab\"/></a>"
      ]
    },
    {
      "cell_type": "code",
      "metadata": {
        "id": "exOxoj3RJQ35",
        "colab_type": "code",
        "colab": {}
      },
      "source": [
        "#list\n",
        "a = [1, 2, 3, 4, 5, 'human']\n",
        "b = [[1, 2, 3, 4, 5, 'human'], [2, 3, 4, 5, 'human'], [3, 4, 5, 'human']]\n",
        "\n"
      ],
      "execution_count": 2,
      "outputs": []
    },
    {
      "cell_type": "code",
      "metadata": {
        "id": "jPBNVm-qJjwc",
        "colab_type": "code",
        "colab": {}
      },
      "source": [
        "#tuple\n",
        "a = (1, 2, 3, 4, 5, 'human')"
      ],
      "execution_count": null,
      "outputs": []
    },
    {
      "cell_type": "code",
      "metadata": {
        "id": "1YsTFjYRJ9zy",
        "colab_type": "code",
        "colab": {}
      },
      "source": [
        "#set\n",
        "a= {1, 2, 3, 4, 5, 'human'}"
      ],
      "execution_count": null,
      "outputs": []
    },
    {
      "cell_type": "code",
      "metadata": {
        "id": "khr0tvZNKAwx",
        "colab_type": "code",
        "colab": {}
      },
      "source": [
        "#dictionary\n",
        "a = {'list': [1, 2, 3, 4, 5, 'human'],\n",
        "     'tuple': (1, 2, 3, 4, 5, 'human'),\n",
        "     'set': {1, 2, 3, 4, 5, 'human'}}"
      ],
      "execution_count": null,
      "outputs": []
    }
  ]
}