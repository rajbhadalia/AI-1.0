{
  "nbformat": 4,
  "nbformat_minor": 0,
  "metadata": {
    "colab": {
      "name": "CW_J006_8-8-20",
      "provenance": [],
      "authorship_tag": "ABX9TyOsenVaMODM+Qj80RWICcx1",
      "include_colab_link": true
    },
    "kernelspec": {
      "name": "python3",
      "display_name": "Python 3"
    }
  },
  "cells": [
    {
      "cell_type": "markdown",
      "metadata": {
        "id": "view-in-github",
        "colab_type": "text"
      },
      "source": [
        "<a href=\"https://colab.research.google.com/github/rajbhadalia/AI-1.0/blob/master/CW/CW_J006_8_8_20.ipynb\" target=\"_parent\"><img src=\"https://colab.research.google.com/assets/colab-badge.svg\" alt=\"Open In Colab\"/></a>"
      ]
    },
    {
      "cell_type": "code",
      "metadata": {
        "id": "UCBYN6d__OeM",
        "colab_type": "code",
        "colab": {
          "base_uri": "https://localhost:8080/",
          "height": 34
        },
        "outputId": "ed99cf63-a81e-4514-871e-4d21a98ce344"
      },
      "source": [
        "def fact(n):\n",
        "    product = 1\n",
        "    for i in range(n):\n",
        "        product = product * (i+1)  # number of computations n=5\n",
        "    return product\n",
        "\n",
        "print (fact(5))"
      ],
      "execution_count": 1,
      "outputs": [
        {
          "output_type": "stream",
          "text": [
            "120\n"
          ],
          "name": "stdout"
        }
      ]
    },
    {
      "cell_type": "code",
      "metadata": {
        "id": "RtUK3o9__TBp",
        "colab_type": "code",
        "colab": {
          "base_uri": "https://localhost:8080/",
          "height": 50
        },
        "outputId": "4d54f210-3b86-41d8-ac46-0baffc0c02a0"
      },
      "source": [
        "%timeit (fact(5))"
      ],
      "execution_count": 2,
      "outputs": [
        {
          "output_type": "stream",
          "text": [
            "The slowest run took 6.00 times longer than the fastest. This could mean that an intermediate result is being cached.\n",
            "1000000 loops, best of 3: 509 ns per loop\n"
          ],
          "name": "stdout"
        }
      ]
    },
    {
      "cell_type": "code",
      "metadata": {
        "id": "xkOUtUxi_TDh",
        "colab_type": "code",
        "colab": {
          "base_uri": "https://localhost:8080/",
          "height": 34
        },
        "outputId": "a8b4650e-7cc0-46ca-dd51-5bf6793945c4"
      },
      "source": [
        "%timeit (fact(50))"
      ],
      "execution_count": 3,
      "outputs": [
        {
          "output_type": "stream",
          "text": [
            "100000 loops, best of 3: 3.8 µs per loop\n"
          ],
          "name": "stdout"
        }
      ]
    },
    {
      "cell_type": "code",
      "metadata": {
        "id": "b3Ckzx58_TG_",
        "colab_type": "code",
        "colab": {
          "base_uri": "https://localhost:8080/",
          "height": 34
        },
        "outputId": "5e836240-f9fe-4a49-877b-f24fb4a959cc"
      },
      "source": [
        "%timeit (fact(1000))"
      ],
      "execution_count": 4,
      "outputs": [
        {
          "output_type": "stream",
          "text": [
            "1000 loops, best of 3: 236 µs per loop\n"
          ],
          "name": "stdout"
        }
      ]
    },
    {
      "cell_type": "code",
      "metadata": {
        "id": "X29DKoxS_TI7",
        "colab_type": "code",
        "colab": {}
      },
      "source": [
        "def sum(a,b):\n",
        "    return a+b"
      ],
      "execution_count": 5,
      "outputs": []
    },
    {
      "cell_type": "code",
      "metadata": {
        "id": "tsNdtblW_TN0",
        "colab_type": "code",
        "colab": {
          "base_uri": "https://localhost:8080/",
          "height": 50
        },
        "outputId": "fef98f0c-0174-44b4-80d7-dffb256894c1"
      },
      "source": [
        "%timeit sum(5,10)"
      ],
      "execution_count": 6,
      "outputs": [
        {
          "output_type": "stream",
          "text": [
            "The slowest run took 19.72 times longer than the fastest. This could mean that an intermediate result is being cached.\n",
            "10000000 loops, best of 3: 84.6 ns per loop\n"
          ],
          "name": "stdout"
        }
      ]
    },
    {
      "cell_type": "code",
      "metadata": {
        "id": "IJWu5G21_TTV",
        "colab_type": "code",
        "colab": {
          "base_uri": "https://localhost:8080/",
          "height": 50
        },
        "outputId": "dd0b7af6-49be-4bd1-8def-8ec53a1c8255"
      },
      "source": [
        "%timeit sum(50,100)"
      ],
      "execution_count": 7,
      "outputs": [
        {
          "output_type": "stream",
          "text": [
            "The slowest run took 13.57 times longer than the fastest. This could mean that an intermediate result is being cached.\n",
            "10000000 loops, best of 3: 84.6 ns per loop\n"
          ],
          "name": "stdout"
        }
      ]
    },
    {
      "cell_type": "code",
      "metadata": {
        "id": "LVxuWO2F_TXS",
        "colab_type": "code",
        "colab": {
          "base_uri": "https://localhost:8080/",
          "height": 50
        },
        "outputId": "45fad5f6-28bf-406b-9689-178c2ff3a6c2"
      },
      "source": [
        "%timeit sum(500,1000)"
      ],
      "execution_count": 8,
      "outputs": [
        {
          "output_type": "stream",
          "text": [
            "The slowest run took 11.25 times longer than the fastest. This could mean that an intermediate result is being cached.\n",
            "10000000 loops, best of 3: 95.8 ns per loop\n"
          ],
          "name": "stdout"
        }
      ]
    },
    {
      "cell_type": "code",
      "metadata": {
        "id": "QlLYxV54_TZr",
        "colab_type": "code",
        "colab": {
          "base_uri": "https://localhost:8080/",
          "height": 50
        },
        "outputId": "ee9a0f55-677d-48a7-de97-ed57957e50ba"
      },
      "source": [
        "%timeit sum(5000,10000)"
      ],
      "execution_count": 9,
      "outputs": [
        {
          "output_type": "stream",
          "text": [
            "The slowest run took 13.65 times longer than the fastest. This could mean that an intermediate result is being cached.\n",
            "10000000 loops, best of 3: 95.7 ns per loop\n"
          ],
          "name": "stdout"
        }
      ]
    },
    {
      "cell_type": "code",
      "metadata": {
        "id": "cxXoRApW_2o_",
        "colab_type": "code",
        "colab": {
          "base_uri": "https://localhost:8080/",
          "height": 128
        },
        "outputId": "71fe2ef6-a0c4-4e01-a57c-f6763e0e4828"
      },
      "source": [
        "NP(Problem) - Solution is in non polynomial time\n",
        "P(Problem) - Max Solution time or Upper Bound is in Polynomial Time O(n^4) -> log n =[](is log n polynomial time or not ?)\n",
        "             (n*logn)\n",
        "              log 50(base10) - 1.69 ()<n^1\n",
        "              log 500(base10) - 2.69 ()<n^1\n",
        "              log 5000(base10) - 3.69 ()<n^1\n",
        "              for non linear change in n , change is linear\n",
        "\n",
        "NP () - n!\n",
        "        5!   120 -> <5^3\n",
        "        50!  3.0414093e+64 microsecs -> days -> 3.5201497e+53 days\n",
        "        500! \n",
        "        5000!\n",
        "NP Complete - > All NP hard problems can be approximated to the problem then it is NP Complete. \n",
        "NP hard - > A problem is NP Hard if its solution is in NP, Cannot be verified in Polynomial Time\n",
        "            \n",
        "AI Complete or \n",
        "AI Hard Problems\n",
        "SAT - n-SAT (2-SAT)"
      ],
      "execution_count": 11,
      "outputs": [
        {
          "output_type": "error",
          "ename": "SyntaxError",
          "evalue": "ignored",
          "traceback": [
            "\u001b[0;36m  File \u001b[0;32m\"<ipython-input-11-b7d4e175c75b>\"\u001b[0;36m, line \u001b[0;32m1\u001b[0m\n\u001b[0;31m    NP(Problem) - Solution is in non polynomial time\u001b[0m\n\u001b[0m                               ^\u001b[0m\n\u001b[0;31mSyntaxError\u001b[0m\u001b[0;31m:\u001b[0m invalid syntax\n"
          ]
        }
      ]
    },
    {
      "cell_type": "code",
      "metadata": {
        "id": "j92e8m3Z_2vw",
        "colab_type": "code",
        "colab": {}
      },
      "source": [
        ""
      ],
      "execution_count": null,
      "outputs": []
    },
    {
      "cell_type": "markdown",
      "metadata": {
        "id": "ay7oSvuapdfz",
        "colab_type": "text"
      },
      "source": [
        "![image.png](data:image/png;base64,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)"
      ]
    },
    {
      "cell_type": "code",
      "metadata": {
        "id": "6aQqS3xo_20i",
        "colab_type": "code",
        "colab": {}
      },
      "source": [
        ""
      ],
      "execution_count": null,
      "outputs": []
    },
    {
      "cell_type": "code",
      "metadata": {
        "id": "AI7Xz0on_2uO",
        "colab_type": "code",
        "colab": {}
      },
      "source": [
        ""
      ],
      "execution_count": null,
      "outputs": []
    },
    {
      "cell_type": "code",
      "metadata": {
        "id": "uscItxnP_2nF",
        "colab_type": "code",
        "colab": {}
      },
      "source": [
        ""
      ],
      "execution_count": null,
      "outputs": []
    },
    {
      "cell_type": "code",
      "metadata": {
        "id": "jBTwFGgz_Tdf",
        "colab_type": "code",
        "colab": {}
      },
      "source": [
        ""
      ],
      "execution_count": null,
      "outputs": []
    },
    {
      "cell_type": "code",
      "metadata": {
        "id": "BQI-33zs_TR1",
        "colab_type": "code",
        "colab": {}
      },
      "source": [
        ""
      ],
      "execution_count": null,
      "outputs": []
    },
    {
      "cell_type": "code",
      "metadata": {
        "id": "JjJsBH5n_TMY",
        "colab_type": "code",
        "colab": {}
      },
      "source": [
        ""
      ],
      "execution_count": null,
      "outputs": []
    }
  ]
}