{
  "nbformat": 4,
  "nbformat_minor": 0,
  "metadata": {
    "colab": {
      "name": "CW_J006_1-8-20",
      "provenance": [],
      "authorship_tag": "ABX9TyPzpcFwh3OOBflyNpDY6Cl1",
      "include_colab_link": true
    },
    "kernelspec": {
      "name": "python3",
      "display_name": "Python 3"
    }
  },
  "cells": [
    {
      "cell_type": "markdown",
      "metadata": {
        "id": "view-in-github",
        "colab_type": "text"
      },
      "source": [
        "<a href=\"https://colab.research.google.com/github/rajbhadalia/AI-1.0/blob/master/CW/CW_J006_1_8_20.ipynb\" target=\"_parent\"><img src=\"https://colab.research.google.com/assets/colab-badge.svg\" alt=\"Open In Colab\"/></a>"
      ]
    },
    {
      "cell_type": "code",
      "metadata": {
        "id": "S8-1xingMT-B",
        "colab_type": "code",
        "colab": {
          "base_uri": "https://localhost:8080/",
          "height": 84
        },
        "outputId": "8437b0c6-8500-4a40-cd54-b983d9c2562b"
      },
      "source": [
        "n=5\n",
        "for i in range(1,n):\n",
        "  print(i)"
      ],
      "execution_count": 1,
      "outputs": [
        {
          "output_type": "stream",
          "text": [
            "1\n",
            "2\n",
            "3\n",
            "4\n"
          ],
          "name": "stdout"
        }
      ]
    },
    {
      "cell_type": "code",
      "metadata": {
        "id": "sxB95EdCMcNf",
        "colab_type": "code",
        "colab": {}
      },
      "source": [
        "#Factorial\n",
        "def fact_recursion(n):\n",
        "  fact=1\n",
        "  if (n==0):\n",
        "    return fact\n",
        "  else:\n",
        "    return n*fact_recursion(n-1)"
      ],
      "execution_count": 2,
      "outputs": []
    },
    {
      "cell_type": "code",
      "metadata": {
        "id": "o4aAux5kMcO9",
        "colab_type": "code",
        "colab": {}
      },
      "source": [
        "def fact_loop(n):\n",
        "  fact=1\n",
        "  if (n==0):\n",
        "    return fact\n",
        "  else:\n",
        "    for i in range(1,n+1):\n",
        "      fact=fact*i\n",
        "    return fact"
      ],
      "execution_count": 3,
      "outputs": []
    },
    {
      "cell_type": "code",
      "metadata": {
        "id": "YxXhd-VTMcX-",
        "colab_type": "code",
        "colab": {
          "base_uri": "https://localhost:8080/",
          "height": 34
        },
        "outputId": "86d40aaf-b900-4eb1-df79-f8d53eca349b"
      },
      "source": [
        "fact1=fact_recursion(5)\n",
        "fact2=fact_loop(5)\n",
        "print(fact1,fact2)"
      ],
      "execution_count": 4,
      "outputs": [
        {
          "output_type": "stream",
          "text": [
            "120 120\n"
          ],
          "name": "stdout"
        }
      ]
    },
    {
      "cell_type": "code",
      "metadata": {
        "id": "niXShEqUMcZg",
        "colab_type": "code",
        "colab": {}
      },
      "source": [
        "#Fibonacci\n",
        "def fibo_recur(n):\n",
        "   fibo[0],fibo[1]=0,1\n",
        "   if(n==0):\n",
        "     return fibo[0]\n",
        "   elif(n==1):\n",
        "     return fibo[1]\n",
        "   else:\n",
        "     while count<n:\n",
        "       print(fibo[0])\n",
        "       fibo"
      ],
      "execution_count": 5,
      "outputs": []
    },
    {
      "cell_type": "code",
      "metadata": {
        "id": "YHz5Y-ZWMcdM",
        "colab_type": "code",
        "colab": {}
      },
      "source": [
        "def fibo_1(n):\n",
        "  if n==0 or n==1:\n",
        "    return n\n",
        "  else:\n",
        "    return fibo_1(n-1)+fibo_1(n-2)"
      ],
      "execution_count": 6,
      "outputs": []
    },
    {
      "cell_type": "code",
      "metadata": {
        "id": "6WGmdlmzMcer",
        "colab_type": "code",
        "colab": {
          "base_uri": "https://localhost:8080/",
          "height": 34
        },
        "outputId": "b124dc83-e648-4488-fc75-bc9cc80332c8"
      },
      "source": [
        "fibo_1(5)"
      ],
      "execution_count": 7,
      "outputs": [
        {
          "output_type": "execute_result",
          "data": {
            "text/plain": [
              "5"
            ]
          },
          "metadata": {
            "tags": []
          },
          "execution_count": 7
        }
      ]
    },
    {
      "cell_type": "code",
      "metadata": {
        "id": "6KbRwndjMciz",
        "colab_type": "code",
        "colab": {}
      },
      "source": [
        "list1=[4,3,1,6,7,99,77,3,5,696,896,321,332,533]"
      ],
      "execution_count": 8,
      "outputs": []
    },
    {
      "cell_type": "code",
      "metadata": {
        "id": "uwfR9enhMckO",
        "colab_type": "code",
        "colab": {}
      },
      "source": [
        "list2=list1.copy().sort()\n",
        "list2"
      ],
      "execution_count": 9,
      "outputs": []
    },
    {
      "cell_type": "code",
      "metadata": {
        "id": "Gu8ZqEIfMcsr",
        "colab_type": "code",
        "colab": {
          "base_uri": "https://localhost:8080/",
          "height": 34
        },
        "outputId": "805c021c-573c-47c4-fb37-e52acde0b19f"
      },
      "source": [
        "print(list2)"
      ],
      "execution_count": 10,
      "outputs": [
        {
          "output_type": "stream",
          "text": [
            "None\n"
          ],
          "name": "stdout"
        }
      ]
    },
    {
      "cell_type": "code",
      "metadata": {
        "id": "G9jmfa9jMcuJ",
        "colab_type": "code",
        "colab": {}
      },
      "source": [
        "list1.sort()"
      ],
      "execution_count": 12,
      "outputs": []
    },
    {
      "cell_type": "code",
      "metadata": {
        "id": "IUp0t_GTM4Jz",
        "colab_type": "code",
        "colab": {}
      },
      "source": [
        "list3=list1.sort()\n",
        "list3"
      ],
      "execution_count": 13,
      "outputs": []
    },
    {
      "cell_type": "code",
      "metadata": {
        "id": "6WpeOFhIM4PZ",
        "colab_type": "code",
        "colab": {
          "base_uri": "https://localhost:8080/",
          "height": 34
        },
        "outputId": "aa50b013-08f6-4ef1-e1a5-e5b3ba5221a7"
      },
      "source": [
        "print(list1)"
      ],
      "execution_count": 14,
      "outputs": [
        {
          "output_type": "stream",
          "text": [
            "[1, 3, 3, 4, 5, 6, 7, 77, 99, 321, 332, 533, 696, 896]\n"
          ],
          "name": "stdout"
        }
      ]
    },
    {
      "cell_type": "code",
      "metadata": {
        "id": "gvc8BFXlM4Q3",
        "colab_type": "code",
        "colab": {}
      },
      "source": [
        ""
      ],
      "execution_count": null,
      "outputs": []
    },
    {
      "cell_type": "code",
      "metadata": {
        "id": "gbIGwIiuM4Uo",
        "colab_type": "code",
        "colab": {}
      },
      "source": [
        ""
      ],
      "execution_count": null,
      "outputs": []
    },
    {
      "cell_type": "code",
      "metadata": {
        "id": "awmgldbJM4WD",
        "colab_type": "code",
        "colab": {}
      },
      "source": [
        ""
      ],
      "execution_count": null,
      "outputs": []
    }
  ]
}