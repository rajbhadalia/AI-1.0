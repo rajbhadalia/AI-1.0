{
  "nbformat": 4,
  "nbformat_minor": 0,
  "metadata": {
    "colab": {
      "name": "CW_J006_16-7-20",
      "provenance": [],
      "authorship_tag": "ABX9TyPguC6EeHnR4cPnkr3o/0hu",
      "include_colab_link": true
    },
    "kernelspec": {
      "name": "python3",
      "display_name": "Python 3"
    }
  },
  "cells": [
    {
      "cell_type": "markdown",
      "metadata": {
        "id": "view-in-github",
        "colab_type": "text"
      },
      "source": [
        "<a href=\"https://colab.research.google.com/github/rajbhadalia/AI-1.0/blob/master/CW/CW_J006_16_7_20.ipynb\" target=\"_parent\"><img src=\"https://colab.research.google.com/assets/colab-badge.svg\" alt=\"Open In Colab\"/></a>"
      ]
    },
    {
      "cell_type": "code",
      "metadata": {
        "id": "miGOnsYGTwAB",
        "colab_type": "code",
        "colab": {
          "base_uri": "https://localhost:8080/",
          "height": 34
        },
        "outputId": "514660e6-efff-4256-e1c2-64aa5c8b6afb"
      },
      "source": [
        "a = 4\n",
        "b = 6\n",
        "c = 3\n",
        "def printer():\n",
        "  print(a+b)\n",
        "def sum(a,b):\n",
        "  print(a+b)\n",
        "  printer()\n",
        "  sum(a,c)\n",
        "  \n",
        "if a>9:\n",
        "  print(a)\n",
        "else:\n",
        "  print(a+9)\n",
        "\n"
      ],
      "execution_count": 1,
      "outputs": [
        {
          "output_type": "stream",
          "text": [
            "13\n"
          ],
          "name": "stdout"
        }
      ]
    },
    {
      "cell_type": "code",
      "metadata": {
        "id": "FRaEKFIeT1H-",
        "colab_type": "code",
        "colab": {
          "base_uri": "https://localhost:8080/",
          "height": 35
        },
        "outputId": "f7127b0e-4ebe-4f8d-d3b1-72a97cba4efd"
      },
      "source": [
        "str(int('10',2))"
      ],
      "execution_count": 2,
      "outputs": [
        {
          "output_type": "execute_result",
          "data": {
            "application/vnd.google.colaboratory.intrinsic": {
              "type": "string"
            },
            "text/plain": [
              "'2'"
            ]
          },
          "metadata": {
            "tags": []
          },
          "execution_count": 2
        }
      ]
    },
    {
      "cell_type": "code",
      "metadata": {
        "id": "mAEu6Qy4T1KA",
        "colab_type": "code",
        "colab": {
          "base_uri": "https://localhost:8080/",
          "height": 34
        },
        "outputId": "cfbf62a6-5f06-4dec-ae3b-a38264ccf0c6"
      },
      "source": [
        "def sum1():\n",
        "  a = 'yoyoyoyo\\hehehehe\\\n",
        "  fofofofofo\\\n",
        "  sasasasa'\n",
        "  print(a)\n",
        "sum1()"
      ],
      "execution_count": 3,
      "outputs": [
        {
          "output_type": "stream",
          "text": [
            "yoyoyoyo\\hehehehe  fofofofofo  sasasasa\n"
          ],
          "name": "stdout"
        }
      ]
    },
    {
      "cell_type": "code",
      "metadata": {
        "id": "T-5A_zpCT1NV",
        "colab_type": "code",
        "colab": {
          "base_uri": "https://localhost:8080/",
          "height": 50
        },
        "outputId": "2300c6a4-6dfa-4bf9-cd3c-4eb549999b3f"
      },
      "source": [
        "class student:\n",
        "  #__name = self.__name\n",
        "  def __init__(self, name):\n",
        "    self.name = name\n",
        "  def displayName(self):\n",
        "    print(self.name)\n",
        "##Class vs Object\n",
        "s1 = student('RAJ')\n",
        "s1.displayName()\n",
        "#Raise an error\n",
        "print(s1.name)"
      ],
      "execution_count": 5,
      "outputs": [
        {
          "output_type": "stream",
          "text": [
            "RAJ\n",
            "RAJ\n"
          ],
          "name": "stdout"
        }
      ]
    },
    {
      "cell_type": "code",
      "metadata": {
        "id": "edwOM68fT1PJ",
        "colab_type": "code",
        "colab": {
          "base_uri": "https://localhost:8080/",
          "height": 50
        },
        "outputId": "a54691e4-beab-4ef9-c96a-29edb6539191"
      },
      "source": [
        "class stud(student):\n",
        "  def __init__(self, a, name):\n",
        "    self.a = a\n",
        "    student.__init__(student, name) \n",
        "\n",
        "s2 = stud(25, 'RAJ')\n",
        "print(s2.name)\n",
        "print(s2.a)"
      ],
      "execution_count": 7,
      "outputs": [
        {
          "output_type": "stream",
          "text": [
            "RAJ\n",
            "25\n"
          ],
          "name": "stdout"
        }
      ]
    },
    {
      "cell_type": "code",
      "metadata": {
        "id": "MxDSMNWIT1T3",
        "colab_type": "code",
        "colab": {}
      },
      "source": [
        ""
      ],
      "execution_count": null,
      "outputs": []
    },
    {
      "cell_type": "code",
      "metadata": {
        "id": "WMv-hNLYT1Vw",
        "colab_type": "code",
        "colab": {}
      },
      "source": [
        ""
      ],
      "execution_count": null,
      "outputs": []
    },
    {
      "cell_type": "code",
      "metadata": {
        "id": "gdP7SCBYT1ZO",
        "colab_type": "code",
        "colab": {}
      },
      "source": [
        ""
      ],
      "execution_count": null,
      "outputs": []
    }
  ]
}